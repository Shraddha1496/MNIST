{
  "nbformat": 4,
  "nbformat_minor": 0,
  "metadata": {
    "colab": {
      "name": "MNIST",
      "provenance": [],
      "collapsed_sections": []
    },
    "kernelspec": {
      "name": "python3",
      "display_name": "Python 3"
    },
    "language_info": {
      "name": "python"
    }
  },
  "cells": [
    {
      "cell_type": "markdown",
      "metadata": {
        "id": "V-mvSascTgCH"
      },
      "source": [
        "# **MNIST**"
      ]
    },
    {
      "cell_type": "code",
      "metadata": {
        "colab": {
          "base_uri": "https://localhost:8080/"
        },
        "id": "pYqykpz_Tkc4",
        "outputId": "c3af6984-dafa-4c63-b0ee-4dd7ed26e723"
      },
      "source": [
        "!pip install keras"
      ],
      "execution_count": 33,
      "outputs": [
        {
          "output_type": "stream",
          "name": "stdout",
          "text": [
            "Requirement already satisfied: keras in /usr/local/lib/python3.7/dist-packages (2.6.0)\n"
          ]
        }
      ]
    },
    {
      "cell_type": "code",
      "metadata": {
        "colab": {
          "base_uri": "https://localhost:8080/"
        },
        "id": "diG1JQ5MVkU5",
        "outputId": "ff65f892-bfa1-4602-d151-459e00d89a8e"
      },
      "source": [
        "!pip install utils"
      ],
      "execution_count": 34,
      "outputs": [
        {
          "output_type": "stream",
          "name": "stdout",
          "text": [
            "Requirement already satisfied: utils in /usr/local/lib/python3.7/dist-packages (1.0.1)\n"
          ]
        }
      ]
    },
    {
      "cell_type": "code",
      "metadata": {
        "id": "T263usvTTu5_"
      },
      "source": [
        "import matplotlib.pyplot as plt  # to display image\n",
        "from keras.layers import Flatten,Dense # layer type,write layers\n",
        "from keras.models import Sequential #which kind of model\n",
        "from keras.datasets import mnist # which data\n",
        "from keras import utils\n",
        "#from keras.utils import to_categorical\n"
      ],
      "execution_count": 35,
      "outputs": []
    },
    {
      "cell_type": "code",
      "metadata": {
        "id": "u2Ei1tUzVINZ"
      },
      "source": [
        "# load dataset\n",
        "(x_train,y_train),(x_test,y_test) = mnist.load_data()"
      ],
      "execution_count": 36,
      "outputs": []
    },
    {
      "cell_type": "code",
      "metadata": {
        "colab": {
          "base_uri": "https://localhost:8080/"
        },
        "id": "raRPzBZyWYxH",
        "outputId": "f019856d-91c3-44a8-81b0-1c27afd35cac"
      },
      "source": [
        "x_train.shape"
      ],
      "execution_count": 37,
      "outputs": [
        {
          "output_type": "execute_result",
          "data": {
            "text/plain": [
              "(60000, 28, 28)"
            ]
          },
          "metadata": {},
          "execution_count": 37
        }
      ]
    },
    {
      "cell_type": "markdown",
      "metadata": {
        "id": "gta2aJRjWtU3"
      },
      "source": [
        "(60000, 28, 28)\n",
        "where 28,28 are pixel\n",
        "60,000 data points, means 60k handwritten numbers."
      ]
    },
    {
      "cell_type": "code",
      "metadata": {
        "colab": {
          "base_uri": "https://localhost:8080/"
        },
        "id": "de6oGW0xW3O1",
        "outputId": "225c0dc2-4292-47cb-bd6c-9783fd3006cc"
      },
      "source": [
        "y_test.shape"
      ],
      "execution_count": 38,
      "outputs": [
        {
          "output_type": "execute_result",
          "data": {
            "text/plain": [
              "(10000,)"
            ]
          },
          "metadata": {},
          "execution_count": 38
        }
      ]
    },
    {
      "cell_type": "code",
      "metadata": {
        "colab": {
          "base_uri": "https://localhost:8080/"
        },
        "id": "KYxRDtROcNWc",
        "outputId": "fa1c94cc-d194-4138-96dd-021ae9ca2f0c"
      },
      "source": [
        "y_train"
      ],
      "execution_count": 39,
      "outputs": [
        {
          "output_type": "execute_result",
          "data": {
            "text/plain": [
              "array([5, 0, 4, ..., 5, 6, 8], dtype=uint8)"
            ]
          },
          "metadata": {},
          "execution_count": 39
        }
      ]
    },
    {
      "cell_type": "code",
      "metadata": {
        "colab": {
          "base_uri": "https://localhost:8080/",
          "height": 145
        },
        "id": "ZfoonFPMXFBf",
        "outputId": "c9f1ddcc-3825-4f30-b020-b48a2694d708"
      },
      "source": [
        "fig, axes = plt.subplots(ncols=10,sharex=False,sharey=True,figsize=(20,4))\n",
        "for i in range(10):\n",
        "  axes[i].set_title(y_train[i])\n",
        "  axes[i].imshow(x_train[i],cmap='RdPu')\n",
        "  axes[i].get_xaxis().set_visible(False)\n",
        "  axes[i].get_yaxis().set_visible(False)\n",
        "plt.show()"
      ],
      "execution_count": 40,
      "outputs": [
        {
          "output_type": "display_data",
          "data": {
            "image/png": "[encoded data removed]",
            "text/plain": [
              "<Figure size 1440x288 with 10 Axes>"
            ]
          },
          "metadata": {
            "needs_background": "light"
          }
        }
      ]
    },
    {
      "cell_type": "code",
      "metadata": {
        "id": "JrI2S-g1b33Y"
      },
      "source": [
        "from tensorflow.keras.utils import to_categorical\n",
        "y_train = to_categorical(y_train)\n",
        "y_test = to_categorical(y_test)"
      ],
      "execution_count": 41,
      "outputs": []
    },
    {
      "cell_type": "code",
      "metadata": {
        "colab": {
          "base_uri": "https://localhost:8080/"
        },
        "id": "qQUJdwPIc5kM",
        "outputId": "7c36a3b9-949b-4120-90ed-4dcd779e62a6"
      },
      "source": [
        "y_train.shape"
      ],
      "execution_count": 42,
      "outputs": [
        {
          "output_type": "execute_result",
          "data": {
            "text/plain": [
              "(60000, 10)"
            ]
          },
          "metadata": {},
          "execution_count": 42
        }
      ]
    },
    {
      "cell_type": "code",
      "metadata": {
        "id": "NYJY9W4xpfGQ"
      },
      "source": [
        "model = Sequential()\n",
        "model.add(Flatten(input_shape=(28,28)))           # get the 1D data \n",
        "model.add(Dense(10,activation='sigmoid'))         # the layers are dense where nodes are 10 \n",
        "model.add(Dense(5,activation='sigmoid'))          # nodes are 5\n",
        "model.add(Dense(10,activation='softmax'))         # for output node we took softmax, more more than 1 class(multiclass)"
      ],
      "execution_count": 43,
      "outputs": []
    },
    {
      "cell_type": "code",
      "metadata": {
        "colab": {
          "base_uri": "https://localhost:8080/"
        },
        "id": "QyPWvihSsrhp",
        "outputId": "f22877a4-1495-4df7-e234-fc279acc15c9"
      },
      "source": [
        "model.summary()"
      ],
      "execution_count": 44,
      "outputs": [
        {
          "output_type": "stream",
          "name": "stdout",
          "text": [
            "Model: \"sequential_2\"\n",
            "_________________________________________________________________\n",
            "Layer (type)                 Output Shape              Param #   \n",
            "=================================================================\n",
            "flatten_1 (Flatten)          (None, 784)               0         \n",
            "_________________________________________________________________\n",
            "dense_3 (Dense)              (None, 10)                7850      \n",
            "_________________________________________________________________\n",
            "dense_4 (Dense)              (None, 5)                 55        \n",
            "_________________________________________________________________\n",
            "dense_5 (Dense)              (None, 10)                60        \n",
            "=================================================================\n",
            "Total params: 7,965\n",
            "Trainable params: 7,965\n",
            "Non-trainable params: 0\n",
            "_________________________________________________________________\n"
          ]
        }
      ]
    },
    {
      "cell_type": "markdown",
      "metadata": {
        "id": "mi6sQ8olCVPd"
      },
      "source": [
        "Param:weights and baises we r training.\n"
      ]
    },
    {
      "cell_type": "code",
      "metadata": {
        "id": "vdciKZUCCNwv"
      },
      "source": [
        "import keras\n",
        "from keras.utils.vis_utils import plot_model"
      ],
      "execution_count": 50,
      "outputs": []
    },
    {
      "cell_type": "code",
      "metadata": {
        "colab": {
          "base_uri": "https://localhost:8080/",
          "height": 533
        },
        "id": "B_cGsTwoCh8e",
        "outputId": "db23700c-6e61-4d13-fc10-23a7026939be"
      },
      "source": [
        "plot_model(model, show_shapes=True)"
      ],
      "execution_count": 52,
      "outputs": [
        {
          "output_type": "execute_result",
          "data": {
            "image/png": "[encoded data removed]",
            "text/plain": [
              "<IPython.core.display.Image object>"
            ]
          },
          "metadata": {},
          "execution_count": 52
        }
      ]
    },
    {
      "cell_type": "markdown",
      "metadata": {
        "id": "DP-D7VPGMFDF"
      },
      "source": [
        "Above plot shows the flow.<br>\n",
        "28*28=>784 flatten=>10nodes=>5=>10"
      ]
    },
    {
      "cell_type": "code",
      "metadata": {
        "id": "ISibXSCbLxY5"
      },
      "source": [
        "# complie the model\n",
        "model.compile(loss='categorical_crossentropy',\n",
        "              optimizer='adam',\n",
        "              metrics=['acc'])"
      ],
      "execution_count": 54,
      "outputs": []
    },
    {
      "cell_type": "code",
      "metadata": {
        "colab": {
          "base_uri": "https://localhost:8080/"
        },
        "id": "fddZXBxBNC0d",
        "outputId": "a3d4c0db-d390-4a77-9b34-da6e324efe66"
      },
      "source": [
        "# train the model\n",
        "model.fit(x_train,y_train,epochs=20,\n",
        "          validation_data=(x_test,y_test))"
      ],
      "execution_count": 55,
      "outputs": [
        {
          "output_type": "stream",
          "name": "stdout",
          "text": [
            "Epoch 1/20\n",
            "1875/1875 [==============================] - 4s 2ms/step - loss: 1.7464 - acc: 0.4579 - val_loss: 1.3580 - val_acc: 0.5905\n",
            "Epoch 2/20\n",
            "1875/1875 [==============================] - 3s 1ms/step - loss: 1.1937 - acc: 0.5993 - val_loss: 1.0629 - val_acc: 0.6359\n",
            "Epoch 3/20\n",
            "1875/1875 [==============================] - 3s 2ms/step - loss: 1.0283 - acc: 0.6384 - val_loss: 0.9706 - val_acc: 0.6664\n",
            "Epoch 4/20\n",
            "1875/1875 [==============================] - 3s 2ms/step - loss: 0.9283 - acc: 0.6762 - val_loss: 0.8657 - val_acc: 0.6982\n",
            "Epoch 5/20\n",
            "1875/1875 [==============================] - 3s 2ms/step - loss: 0.8384 - acc: 0.7283 - val_loss: 0.8149 - val_acc: 0.7205\n",
            "Epoch 6/20\n",
            "1875/1875 [==============================] - 3s 1ms/step - loss: 0.8005 - acc: 0.7485 - val_loss: 0.7372 - val_acc: 0.7540\n",
            "Epoch 7/20\n",
            "1875/1875 [==============================] - 3s 2ms/step - loss: 0.7421 - acc: 0.7844 - val_loss: 0.7019 - val_acc: 0.8076\n",
            "Epoch 8/20\n",
            "1875/1875 [==============================] - 3s 1ms/step - loss: 0.6961 - acc: 0.8003 - val_loss: 0.6578 - val_acc: 0.8290\n",
            "Epoch 9/20\n",
            "1875/1875 [==============================] - 3s 2ms/step - loss: 0.6579 - acc: 0.8140 - val_loss: 0.6669 - val_acc: 0.7748\n",
            "Epoch 10/20\n",
            "1875/1875 [==============================] - 3s 2ms/step - loss: 0.6493 - acc: 0.8063 - val_loss: 0.6378 - val_acc: 0.8163\n",
            "Epoch 11/20\n",
            "1875/1875 [==============================] - 3s 2ms/step - loss: 0.6274 - acc: 0.8212 - val_loss: 0.5994 - val_acc: 0.8378\n",
            "Epoch 12/20\n",
            "1875/1875 [==============================] - 3s 1ms/step - loss: 0.5997 - acc: 0.8382 - val_loss: 0.5633 - val_acc: 0.8504\n",
            "Epoch 13/20\n",
            "1875/1875 [==============================] - 3s 2ms/step - loss: 0.6023 - acc: 0.8358 - val_loss: 0.5945 - val_acc: 0.8349\n",
            "Epoch 14/20\n",
            "1875/1875 [==============================] - 3s 2ms/step - loss: 0.5810 - acc: 0.8448 - val_loss: 0.5511 - val_acc: 0.8526\n",
            "Epoch 15/20\n",
            "1875/1875 [==============================] - 3s 2ms/step - loss: 0.5704 - acc: 0.8399 - val_loss: 0.5496 - val_acc: 0.8534\n",
            "Epoch 16/20\n",
            "1875/1875 [==============================] - 3s 2ms/step - loss: 0.5596 - acc: 0.8471 - val_loss: 0.5302 - val_acc: 0.8550\n",
            "Epoch 17/20\n",
            "1875/1875 [==============================] - 3s 2ms/step - loss: 0.5389 - acc: 0.8563 - val_loss: 0.5314 - val_acc: 0.8566\n",
            "Epoch 18/20\n",
            "1875/1875 [==============================] - 3s 2ms/step - loss: 0.5323 - acc: 0.8574 - val_loss: 0.5102 - val_acc: 0.8680\n",
            "Epoch 19/20\n",
            "1875/1875 [==============================] - 3s 2ms/step - loss: 0.5162 - acc: 0.8626 - val_loss: 0.5113 - val_acc: 0.8682\n",
            "Epoch 20/20\n",
            "1875/1875 [==============================] - 3s 2ms/step - loss: 0.5144 - acc: 0.8615 - val_loss: 0.5116 - val_acc: 0.8651\n"
          ]
        },
        {
          "output_type": "execute_result",
          "data": {
            "text/plain": [
              "<keras.callbacks.History at 0x7fe41d8770d0>"
            ]
          },
          "metadata": {},
          "execution_count": 55
        }
      ]
    },
    {
      "cell_type": "markdown",
      "metadata": {
        "id": "lXyqlumeOBpD"
      },
      "source": [
        "Here it gives the details where our mail goal is to increase accuracy by decresing loss and val_loss.\n",
        "\n",
        "<b>Q:What is None and 1875?</b><br>\n",
        "=> We have data of 60000 so the data has been fed to model in batches.we did not give any batch size so it took None by default.<br>\n",
        "\n",
        "<b>1875:</b><br>\n",
        "Ther are 2 terms:<br>\n",
        "1.Epoch<br>\n",
        "2.steps per epoch:<br>\n",
        "\n",
        "we have data 60000 and batch size is 32<br>\n",
        "so when the data has been pass in 32 batches n come back that is basically means epoch.<br>\n",
        "\n",
        "The stpes per epoch is how many times that 32 => happens means if we basically divide 60000/32=1875.So in 1 step how many times that happen called as stpes per epoch.<br>"
      ]
    },
    {
      "cell_type": "code",
      "metadata": {
        "id": "9Z1i8TjLNj2P"
      },
      "source": [
        "# save the model\n",
        "model.save('mnist_model.h5') # instaed of training the model, save it."
      ],
      "execution_count": 58,
      "outputs": []
    },
    {
      "cell_type": "code",
      "metadata": {
        "id": "SUfGbho0R7Ky"
      },
      "source": [
        "# we can visualize the model as well in netron.app,loads the moel and visualize."
      ],
      "execution_count": 60,
      "outputs": []
    },
    {
      "cell_type": "code",
      "metadata": {
        "id": "P3z2BO0JSQWG"
      },
      "source": [
        ""
      ],
      "execution_count": null,
      "outputs": []
    }
  ]
}